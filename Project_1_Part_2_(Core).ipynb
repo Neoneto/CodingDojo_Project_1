{
  "nbformat": 4,
  "nbformat_minor": 0,
  "metadata": {
    "colab": {
      "name": "Project 1 - Part 2 (Core)",
      "provenance": [],
      "mount_file_id": "1gCLATdr0qDgwOqaUDIcuMgAfKH2g3E28",
      "authorship_tag": "ABX9TyNsQcGjetd05a0+/0OlbDJD",
      "include_colab_link": true
    },
    "kernelspec": {
      "name": "python3",
      "display_name": "Python 3"
    },
    "language_info": {
      "name": "python"
    }
  },
  "cells": [
    {
      "cell_type": "markdown",
      "metadata": {
        "id": "view-in-github",
        "colab_type": "text"
      },
      "source": [
        "<a href=\"https://colab.research.google.com/github/Neoneto/CodingDojo_Project_1/blob/main/Project_1_Part_2_(Core).ipynb\" target=\"_parent\"><img src=\"https://colab.research.google.com/assets/colab-badge.svg\" alt=\"Open In Colab\"/></a>"
      ]
    },
    {
      "cell_type": "markdown",
      "metadata": {
        "id": "R6F2ROxbbUrU"
      },
      "source": [
        "\n",
        "\n",
        "# Project 1 - Part 1 (Core)\n",
        "Submitted by Kenneth Alaba\n",
        "\n"
      ]
    },
    {
      "cell_type": "markdown",
      "metadata": {
        "id": "kdYy-mGWbjvi"
      },
      "source": [
        "## Imports the necessary dataset as pandas dataframe\n"
      ]
    },
    {
      "cell_type": "code",
      "metadata": {
        "id": "YobroJmZbSAw"
      },
      "source": [
        "# Import the pandas library\n",
        "import pandas as pd"
      ],
      "execution_count": 94,
      "outputs": []
    },
    {
      "cell_type": "code",
      "metadata": {
        "colab": {
          "base_uri": "https://localhost:8080/",
          "height": 309
        },
        "id": "C-aOX0KSbpUz",
        "outputId": "d9cb0165-04e3-482b-9d6d-2cb0ae6249c1"
      },
      "source": [
        "# Loads the data \n",
        "filename = '/content/sales_predictions.csv'\n",
        "df_sales = pd.read_csv(filename)\n",
        "\n",
        "# Shows the head of the dataframe\n",
        "df_sales.head()"
      ],
      "execution_count": 95,
      "outputs": [
        {
          "output_type": "execute_result",
          "data": {
            "text/html": [
              "<div>\n",
              "<style scoped>\n",
              "    .dataframe tbody tr th:only-of-type {\n",
              "        vertical-align: middle;\n",
              "    }\n",
              "\n",
              "    .dataframe tbody tr th {\n",
              "        vertical-align: top;\n",
              "    }\n",
              "\n",
              "    .dataframe thead th {\n",
              "        text-align: right;\n",
              "    }\n",
              "</style>\n",
              "<table border=\"1\" class=\"dataframe\">\n",
              "  <thead>\n",
              "    <tr style=\"text-align: right;\">\n",
              "      <th></th>\n",
              "      <th>Item_Identifier</th>\n",
              "      <th>Item_Weight</th>\n",
              "      <th>Item_Fat_Content</th>\n",
              "      <th>Item_Visibility</th>\n",
              "      <th>Item_Type</th>\n",
              "      <th>Item_MRP</th>\n",
              "      <th>Outlet_Identifier</th>\n",
              "      <th>Outlet_Establishment_Year</th>\n",
              "      <th>Outlet_Size</th>\n",
              "      <th>Outlet_Location_Type</th>\n",
              "      <th>Outlet_Type</th>\n",
              "      <th>Item_Outlet_Sales</th>\n",
              "    </tr>\n",
              "  </thead>\n",
              "  <tbody>\n",
              "    <tr>\n",
              "      <th>0</th>\n",
              "      <td>FDA15</td>\n",
              "      <td>9.30</td>\n",
              "      <td>Low Fat</td>\n",
              "      <td>0.016047</td>\n",
              "      <td>Dairy</td>\n",
              "      <td>249.8092</td>\n",
              "      <td>OUT049</td>\n",
              "      <td>1999</td>\n",
              "      <td>Medium</td>\n",
              "      <td>Tier 1</td>\n",
              "      <td>Supermarket Type1</td>\n",
              "      <td>3735.1380</td>\n",
              "    </tr>\n",
              "    <tr>\n",
              "      <th>1</th>\n",
              "      <td>DRC01</td>\n",
              "      <td>5.92</td>\n",
              "      <td>Regular</td>\n",
              "      <td>0.019278</td>\n",
              "      <td>Soft Drinks</td>\n",
              "      <td>48.2692</td>\n",
              "      <td>OUT018</td>\n",
              "      <td>2009</td>\n",
              "      <td>Medium</td>\n",
              "      <td>Tier 3</td>\n",
              "      <td>Supermarket Type2</td>\n",
              "      <td>443.4228</td>\n",
              "    </tr>\n",
              "    <tr>\n",
              "      <th>2</th>\n",
              "      <td>FDN15</td>\n",
              "      <td>17.50</td>\n",
              "      <td>Low Fat</td>\n",
              "      <td>0.016760</td>\n",
              "      <td>Meat</td>\n",
              "      <td>141.6180</td>\n",
              "      <td>OUT049</td>\n",
              "      <td>1999</td>\n",
              "      <td>Medium</td>\n",
              "      <td>Tier 1</td>\n",
              "      <td>Supermarket Type1</td>\n",
              "      <td>2097.2700</td>\n",
              "    </tr>\n",
              "    <tr>\n",
              "      <th>3</th>\n",
              "      <td>FDX07</td>\n",
              "      <td>19.20</td>\n",
              "      <td>Regular</td>\n",
              "      <td>0.000000</td>\n",
              "      <td>Fruits and Vegetables</td>\n",
              "      <td>182.0950</td>\n",
              "      <td>OUT010</td>\n",
              "      <td>1998</td>\n",
              "      <td>NaN</td>\n",
              "      <td>Tier 3</td>\n",
              "      <td>Grocery Store</td>\n",
              "      <td>732.3800</td>\n",
              "    </tr>\n",
              "    <tr>\n",
              "      <th>4</th>\n",
              "      <td>NCD19</td>\n",
              "      <td>8.93</td>\n",
              "      <td>Low Fat</td>\n",
              "      <td>0.000000</td>\n",
              "      <td>Household</td>\n",
              "      <td>53.8614</td>\n",
              "      <td>OUT013</td>\n",
              "      <td>1987</td>\n",
              "      <td>High</td>\n",
              "      <td>Tier 3</td>\n",
              "      <td>Supermarket Type1</td>\n",
              "      <td>994.7052</td>\n",
              "    </tr>\n",
              "  </tbody>\n",
              "</table>\n",
              "</div>"
            ],
            "text/plain": [
              "  Item_Identifier  Item_Weight  ...        Outlet_Type  Item_Outlet_Sales\n",
              "0           FDA15         9.30  ...  Supermarket Type1          3735.1380\n",
              "1           DRC01         5.92  ...  Supermarket Type2           443.4228\n",
              "2           FDN15        17.50  ...  Supermarket Type1          2097.2700\n",
              "3           FDX07        19.20  ...      Grocery Store           732.3800\n",
              "4           NCD19         8.93  ...  Supermarket Type1           994.7052\n",
              "\n",
              "[5 rows x 12 columns]"
            ]
          },
          "metadata": {},
          "execution_count": 95
        }
      ]
    },
    {
      "cell_type": "markdown",
      "metadata": {
        "id": "JyL69C4Dle9s"
      },
      "source": [
        "## Displays the information of the dataframe"
      ]
    },
    {
      "cell_type": "code",
      "metadata": {
        "colab": {
          "base_uri": "https://localhost:8080/"
        },
        "id": "z8ehlJmZjMw9",
        "outputId": "e7cb4214-b0b0-4391-d505-d60b988f3a52"
      },
      "source": [
        "# Shows the info of the dataframe\n",
        "df_sales.info()"
      ],
      "execution_count": 96,
      "outputs": [
        {
          "output_type": "stream",
          "name": "stdout",
          "text": [
            "<class 'pandas.core.frame.DataFrame'>\n",
            "RangeIndex: 8523 entries, 0 to 8522\n",
            "Data columns (total 12 columns):\n",
            " #   Column                     Non-Null Count  Dtype  \n",
            "---  ------                     --------------  -----  \n",
            " 0   Item_Identifier            8523 non-null   object \n",
            " 1   Item_Weight                7060 non-null   float64\n",
            " 2   Item_Fat_Content           8523 non-null   object \n",
            " 3   Item_Visibility            8523 non-null   float64\n",
            " 4   Item_Type                  8523 non-null   object \n",
            " 5   Item_MRP                   8523 non-null   float64\n",
            " 6   Outlet_Identifier          8523 non-null   object \n",
            " 7   Outlet_Establishment_Year  8523 non-null   int64  \n",
            " 8   Outlet_Size                6113 non-null   object \n",
            " 9   Outlet_Location_Type       8523 non-null   object \n",
            " 10  Outlet_Type                8523 non-null   object \n",
            " 11  Item_Outlet_Sales          8523 non-null   float64\n",
            "dtypes: float64(4), int64(1), object(7)\n",
            "memory usage: 799.2+ KB\n"
          ]
        }
      ]
    },
    {
      "cell_type": "markdown",
      "metadata": {
        "id": "8gEl4TldReFg"
      },
      "source": [
        "From here, we can see the data type that each column contains. We can also see that two of the columns contain missing values."
      ]
    },
    {
      "cell_type": "markdown",
      "metadata": {
        "id": "0fShTDTDliid"
      },
      "source": [
        "## Displays the duplicated rows"
      ]
    },
    {
      "cell_type": "code",
      "metadata": {
        "colab": {
          "base_uri": "https://localhost:8080/",
          "height": 69
        },
        "id": "-u6IXJcklV9d",
        "outputId": "71646ae6-1e2f-4614-fe5d-8f99e6e43689"
      },
      "source": [
        "# Shows the duplicated rows of the dataframe\n",
        "df_sales[df_sales.duplicated()]"
      ],
      "execution_count": 97,
      "outputs": [
        {
          "output_type": "execute_result",
          "data": {
            "text/html": [
              "<div>\n",
              "<style scoped>\n",
              "    .dataframe tbody tr th:only-of-type {\n",
              "        vertical-align: middle;\n",
              "    }\n",
              "\n",
              "    .dataframe tbody tr th {\n",
              "        vertical-align: top;\n",
              "    }\n",
              "\n",
              "    .dataframe thead th {\n",
              "        text-align: right;\n",
              "    }\n",
              "</style>\n",
              "<table border=\"1\" class=\"dataframe\">\n",
              "  <thead>\n",
              "    <tr style=\"text-align: right;\">\n",
              "      <th></th>\n",
              "      <th>Item_Identifier</th>\n",
              "      <th>Item_Weight</th>\n",
              "      <th>Item_Fat_Content</th>\n",
              "      <th>Item_Visibility</th>\n",
              "      <th>Item_Type</th>\n",
              "      <th>Item_MRP</th>\n",
              "      <th>Outlet_Identifier</th>\n",
              "      <th>Outlet_Establishment_Year</th>\n",
              "      <th>Outlet_Size</th>\n",
              "      <th>Outlet_Location_Type</th>\n",
              "      <th>Outlet_Type</th>\n",
              "      <th>Item_Outlet_Sales</th>\n",
              "    </tr>\n",
              "  </thead>\n",
              "  <tbody>\n",
              "  </tbody>\n",
              "</table>\n",
              "</div>"
            ],
            "text/plain": [
              "Empty DataFrame\n",
              "Columns: [Item_Identifier, Item_Weight, Item_Fat_Content, Item_Visibility, Item_Type, Item_MRP, Outlet_Identifier, Outlet_Establishment_Year, Outlet_Size, Outlet_Location_Type, Outlet_Type, Item_Outlet_Sales]\n",
              "Index: []"
            ]
          },
          "metadata": {},
          "execution_count": 97
        }
      ]
    },
    {
      "cell_type": "markdown",
      "metadata": {
        "id": "L3dHmZfMRqKE"
      },
      "source": [
        "This tells us that the dataframe contains no duplicated rows."
      ]
    },
    {
      "cell_type": "markdown",
      "metadata": {
        "id": "FA8RkjRDl9xc"
      },
      "source": [
        "## Missing values"
      ]
    },
    {
      "cell_type": "code",
      "metadata": {
        "colab": {
          "base_uri": "https://localhost:8080/"
        },
        "id": "l9k6le3rlzKO",
        "outputId": "61cb6cd2-1fc7-4744-8471-736329e92e0d"
      },
      "source": [
        "# Shows how many missing values are in each columns\n",
        "df_sales.isna().sum()"
      ],
      "execution_count": 98,
      "outputs": [
        {
          "output_type": "execute_result",
          "data": {
            "text/plain": [
              "Item_Identifier                 0\n",
              "Item_Weight                  1463\n",
              "Item_Fat_Content                0\n",
              "Item_Visibility                 0\n",
              "Item_Type                       0\n",
              "Item_MRP                        0\n",
              "Outlet_Identifier               0\n",
              "Outlet_Establishment_Year       0\n",
              "Outlet_Size                  2410\n",
              "Outlet_Location_Type            0\n",
              "Outlet_Type                     0\n",
              "Item_Outlet_Sales               0\n",
              "dtype: int64"
            ]
          },
          "metadata": {},
          "execution_count": 98
        }
      ]
    },
    {
      "cell_type": "markdown",
      "metadata": {
        "id": "dWz9grz1RyLm"
      },
      "source": [
        "This tells us that only the columns 'Item_Weight' and 'Outlet_Size' has missing values which we will try to fill in the later parts."
      ]
    },
    {
      "cell_type": "markdown",
      "metadata": {
        "id": "yoznH0vwmnTG"
      },
      "source": [
        "## Dealing with missing values\n",
        "Since all the missing values are only in the columns of the Item_Weight  and Outlet_Size , we can easily fill those missing values by looking at other rows with the same Item_Identifier for the weight and same Outlet_Identifier for the outlet size and just copying their values. We can do this since both the Item_Identifier and the Outlet_Identifier are unique."
      ]
    },
    {
      "cell_type": "markdown",
      "metadata": {
        "id": "ll-1xUUdn1Ve"
      },
      "source": [
        "### Filling missing values in Item_Weight"
      ]
    },
    {
      "cell_type": "markdown",
      "metadata": {
        "id": "DOj9JasXSPrc"
      },
      "source": [
        "To fill the missing weights, we create a dictionary of the product identifier, which is unique, and its corresponding weight, using entries from other rows. We then map this dictionary to fill the missing values depending on the item identifier of the missing weight."
      ]
    },
    {
      "cell_type": "code",
      "metadata": {
        "id": "RKj7UbBClKvl"
      },
      "source": [
        "# Gets the set (unique values) of the product identifiers and its weight\n",
        "dict_weight = df_sales[['Item_Identifier','Item_Weight']].dropna()\n",
        "dict_weight = dict_weight.drop_duplicates()\n",
        "\n",
        "# Creates a dictionary from the set\n",
        "dict_weight = dict_weight.set_index('Item_Identifier')['Item_Weight'].to_dict()\n"
      ],
      "execution_count": 99,
      "outputs": []
    },
    {
      "cell_type": "code",
      "metadata": {
        "colab": {
          "base_uri": "https://localhost:8080/"
        },
        "id": "_HldlZ-YuCsB",
        "outputId": "f496321f-5992-44c1-beca-b43977b093ae"
      },
      "source": [
        "# Fills the missing values in Item_Weight using the dictionary\n",
        "df_sales.Item_Weight = df_sales.Item_Weight.fillna(df_sales.Item_Identifier.map(dict_weight))\n",
        "\n",
        "# Checks whether there are still missing values\n",
        "df_sales.info()"
      ],
      "execution_count": 100,
      "outputs": [
        {
          "output_type": "stream",
          "name": "stdout",
          "text": [
            "<class 'pandas.core.frame.DataFrame'>\n",
            "RangeIndex: 8523 entries, 0 to 8522\n",
            "Data columns (total 12 columns):\n",
            " #   Column                     Non-Null Count  Dtype  \n",
            "---  ------                     --------------  -----  \n",
            " 0   Item_Identifier            8523 non-null   object \n",
            " 1   Item_Weight                8519 non-null   float64\n",
            " 2   Item_Fat_Content           8523 non-null   object \n",
            " 3   Item_Visibility            8523 non-null   float64\n",
            " 4   Item_Type                  8523 non-null   object \n",
            " 5   Item_MRP                   8523 non-null   float64\n",
            " 6   Outlet_Identifier          8523 non-null   object \n",
            " 7   Outlet_Establishment_Year  8523 non-null   int64  \n",
            " 8   Outlet_Size                6113 non-null   object \n",
            " 9   Outlet_Location_Type       8523 non-null   object \n",
            " 10  Outlet_Type                8523 non-null   object \n",
            " 11  Item_Outlet_Sales          8523 non-null   float64\n",
            "dtypes: float64(4), int64(1), object(7)\n",
            "memory usage: 799.2+ KB\n"
          ]
        }
      ]
    },
    {
      "cell_type": "markdown",
      "metadata": {
        "id": "_wuwVfkOTYGb"
      },
      "source": [
        "We can see that there are still missing values in the Item_Weight column."
      ]
    },
    {
      "cell_type": "code",
      "metadata": {
        "colab": {
          "base_uri": "https://localhost:8080/",
          "height": 261
        },
        "id": "maqO2qR_wJUg",
        "outputId": "8a09347b-82f8-4df8-c366-03f265e115ee"
      },
      "source": [
        "# Obtain the rows with still missing weights\n",
        "missing_weight = df_sales[df_sales[['Item_Identifier','Item_Weight']].isnull().any(axis=1)]\n",
        "missing_weight"
      ],
      "execution_count": 101,
      "outputs": [
        {
          "output_type": "execute_result",
          "data": {
            "text/html": [
              "<div>\n",
              "<style scoped>\n",
              "    .dataframe tbody tr th:only-of-type {\n",
              "        vertical-align: middle;\n",
              "    }\n",
              "\n",
              "    .dataframe tbody tr th {\n",
              "        vertical-align: top;\n",
              "    }\n",
              "\n",
              "    .dataframe thead th {\n",
              "        text-align: right;\n",
              "    }\n",
              "</style>\n",
              "<table border=\"1\" class=\"dataframe\">\n",
              "  <thead>\n",
              "    <tr style=\"text-align: right;\">\n",
              "      <th></th>\n",
              "      <th>Item_Identifier</th>\n",
              "      <th>Item_Weight</th>\n",
              "      <th>Item_Fat_Content</th>\n",
              "      <th>Item_Visibility</th>\n",
              "      <th>Item_Type</th>\n",
              "      <th>Item_MRP</th>\n",
              "      <th>Outlet_Identifier</th>\n",
              "      <th>Outlet_Establishment_Year</th>\n",
              "      <th>Outlet_Size</th>\n",
              "      <th>Outlet_Location_Type</th>\n",
              "      <th>Outlet_Type</th>\n",
              "      <th>Item_Outlet_Sales</th>\n",
              "    </tr>\n",
              "  </thead>\n",
              "  <tbody>\n",
              "    <tr>\n",
              "      <th>927</th>\n",
              "      <td>FDN52</td>\n",
              "      <td>NaN</td>\n",
              "      <td>Regular</td>\n",
              "      <td>0.130933</td>\n",
              "      <td>Frozen Foods</td>\n",
              "      <td>86.9198</td>\n",
              "      <td>OUT027</td>\n",
              "      <td>1985</td>\n",
              "      <td>Medium</td>\n",
              "      <td>Tier 3</td>\n",
              "      <td>Supermarket Type3</td>\n",
              "      <td>1569.9564</td>\n",
              "    </tr>\n",
              "    <tr>\n",
              "      <th>1922</th>\n",
              "      <td>FDK57</td>\n",
              "      <td>NaN</td>\n",
              "      <td>Low Fat</td>\n",
              "      <td>0.079904</td>\n",
              "      <td>Snack Foods</td>\n",
              "      <td>120.0440</td>\n",
              "      <td>OUT027</td>\n",
              "      <td>1985</td>\n",
              "      <td>Medium</td>\n",
              "      <td>Tier 3</td>\n",
              "      <td>Supermarket Type3</td>\n",
              "      <td>4434.2280</td>\n",
              "    </tr>\n",
              "    <tr>\n",
              "      <th>4187</th>\n",
              "      <td>FDE52</td>\n",
              "      <td>NaN</td>\n",
              "      <td>Regular</td>\n",
              "      <td>0.029742</td>\n",
              "      <td>Dairy</td>\n",
              "      <td>88.9514</td>\n",
              "      <td>OUT027</td>\n",
              "      <td>1985</td>\n",
              "      <td>Medium</td>\n",
              "      <td>Tier 3</td>\n",
              "      <td>Supermarket Type3</td>\n",
              "      <td>3453.5046</td>\n",
              "    </tr>\n",
              "    <tr>\n",
              "      <th>5022</th>\n",
              "      <td>FDQ60</td>\n",
              "      <td>NaN</td>\n",
              "      <td>Regular</td>\n",
              "      <td>0.191501</td>\n",
              "      <td>Baking Goods</td>\n",
              "      <td>121.2098</td>\n",
              "      <td>OUT019</td>\n",
              "      <td>1985</td>\n",
              "      <td>Small</td>\n",
              "      <td>Tier 1</td>\n",
              "      <td>Grocery Store</td>\n",
              "      <td>120.5098</td>\n",
              "    </tr>\n",
              "  </tbody>\n",
              "</table>\n",
              "</div>"
            ],
            "text/plain": [
              "     Item_Identifier  Item_Weight  ...        Outlet_Type  Item_Outlet_Sales\n",
              "927            FDN52          NaN  ...  Supermarket Type3          1569.9564\n",
              "1922           FDK57          NaN  ...  Supermarket Type3          4434.2280\n",
              "4187           FDE52          NaN  ...  Supermarket Type3          3453.5046\n",
              "5022           FDQ60          NaN  ...      Grocery Store           120.5098\n",
              "\n",
              "[4 rows x 12 columns]"
            ]
          },
          "metadata": {},
          "execution_count": 101
        }
      ]
    },
    {
      "cell_type": "code",
      "metadata": {
        "colab": {
          "base_uri": "https://localhost:8080/"
        },
        "id": "tcbJe_s--JA_",
        "outputId": "05e2b4de-b795-4787-a5cd-e40d7613cffd"
      },
      "source": [
        "# Checks whether those Item_Identifier really doesn't appear in the dataframe\n",
        "# with its corresponding weight.\n",
        "for identifier in missing_weight['Item_Identifier']:\n",
        "  print(identifier in df_sales[['Item_Identifier','Item_Weight']].dropna().drop_duplicates())"
      ],
      "execution_count": 102,
      "outputs": [
        {
          "output_type": "stream",
          "name": "stdout",
          "text": [
            "False\n",
            "False\n",
            "False\n",
            "False\n"
          ]
        }
      ]
    },
    {
      "cell_type": "markdown",
      "metadata": {
        "id": "j9y93xfcT7ip"
      },
      "source": [
        "Since we can't use other entries to readily fill them, we will deal with them later."
      ]
    },
    {
      "cell_type": "markdown",
      "metadata": {
        "id": "bbPMjiGA0euP"
      },
      "source": [
        "### Filling missing values in Outlet_Size"
      ]
    },
    {
      "cell_type": "markdown",
      "metadata": {
        "id": "xl8ktPhXUFzY"
      },
      "source": [
        "Similar with the above method, we create a dictionary of Outlet_Identifier and its corresponding Outlet_Size and use that dictionary to fill the missing values."
      ]
    },
    {
      "cell_type": "code",
      "metadata": {
        "id": "4Nj0CiWR0ilU"
      },
      "source": [
        "# Create the dictionary from unique values in the Outlet_Identifier and Outlet_Size columns\n",
        "dict_size = df_sales[['Outlet_Identifier','Outlet_Size']].dropna()\n",
        "dict_size = dict_size.drop_duplicates()\n",
        "dict_size = dict_size.set_index('Outlet_Identifier')['Outlet_Size'].to_dict()"
      ],
      "execution_count": 103,
      "outputs": []
    },
    {
      "cell_type": "code",
      "metadata": {
        "colab": {
          "base_uri": "https://localhost:8080/"
        },
        "id": "ZL4ViP2200Uy",
        "outputId": "def8df7e-c8f3-48d9-ac18-e50fe942cef6"
      },
      "source": [
        "# Fills the missing values depending on the Outlet_Identifier using the dictionary\n",
        "df_sales.Outlet_Size = df_sales.Outlet_Size.fillna(df_sales.Outlet_Identifier.map(dict_size))\n",
        "\n",
        "# Checks whether there are still missing values\n",
        "df_sales.info()"
      ],
      "execution_count": 104,
      "outputs": [
        {
          "output_type": "stream",
          "name": "stdout",
          "text": [
            "<class 'pandas.core.frame.DataFrame'>\n",
            "RangeIndex: 8523 entries, 0 to 8522\n",
            "Data columns (total 12 columns):\n",
            " #   Column                     Non-Null Count  Dtype  \n",
            "---  ------                     --------------  -----  \n",
            " 0   Item_Identifier            8523 non-null   object \n",
            " 1   Item_Weight                8519 non-null   float64\n",
            " 2   Item_Fat_Content           8523 non-null   object \n",
            " 3   Item_Visibility            8523 non-null   float64\n",
            " 4   Item_Type                  8523 non-null   object \n",
            " 5   Item_MRP                   8523 non-null   float64\n",
            " 6   Outlet_Identifier          8523 non-null   object \n",
            " 7   Outlet_Establishment_Year  8523 non-null   int64  \n",
            " 8   Outlet_Size                6113 non-null   object \n",
            " 9   Outlet_Location_Type       8523 non-null   object \n",
            " 10  Outlet_Type                8523 non-null   object \n",
            " 11  Item_Outlet_Sales          8523 non-null   float64\n",
            "dtypes: float64(4), int64(1), object(7)\n",
            "memory usage: 799.2+ KB\n"
          ]
        }
      ]
    },
    {
      "cell_type": "markdown",
      "metadata": {
        "id": "aJG7AAN4Uzsj"
      },
      "source": [
        "We can see that there are still missing values, in fact, the dictionary wasn't able to fill any missing values in the Outlet_Size column because those Outlet_Identifier never appeared in the dataframe with its corresponding size as shown using the code below."
      ]
    },
    {
      "cell_type": "code",
      "metadata": {
        "id": "VfplSM-1-6qL"
      },
      "source": [
        "# Isolates the columns with missing Outlet_Size\n",
        "missing_size = df_sales[df_sales[['Outlet_Identifier','Outlet_Size']].isnull().any(axis=1)]\n",
        "missing_size = missing_size[['Outlet_Identifier','Outlet_Size']].drop_duplicates()"
      ],
      "execution_count": 105,
      "outputs": []
    },
    {
      "cell_type": "code",
      "metadata": {
        "colab": {
          "base_uri": "https://localhost:8080/"
        },
        "id": "_jGQhFPF_1Ro",
        "outputId": "5c724659-5031-4bb7-9d24-6324304272e1"
      },
      "source": [
        "# Checks if the Outlet_Identifier appeared in the dataframe with its Outlet_Size\n",
        "for identifier in missing_size['Outlet_Identifier']:\n",
        "  print(identifier in df_sales[['Outlet_Identifier','Outlet_Size']].dropna().drop_duplicates())"
      ],
      "execution_count": 106,
      "outputs": [
        {
          "output_type": "stream",
          "name": "stdout",
          "text": [
            "False\n",
            "False\n",
            "False\n"
          ]
        }
      ]
    },
    {
      "cell_type": "markdown",
      "metadata": {
        "id": "JsHy-hUTao22"
      },
      "source": [
        "### Filling further missing values"
      ]
    },
    {
      "cell_type": "markdown",
      "metadata": {
        "id": "nAMcmpm4VUR9"
      },
      "source": [
        "Since we don't know what we wan't to extract from the dataframe yet, I think that the best way to deal with those remaining missing values is to leave them as is for now until later where we know what we want to do and can determine the most appropriate method to fill them. However, for the sake of this excercise, since the Item_Weight is numerical, the best way to fill them is by using the mean of the column(while ignoring the missing values). As for the Outlet_Size, since it is categorical, the best way is to fill it with the most frequent value in the column."
      ]
    },
    {
      "cell_type": "code",
      "metadata": {
        "id": "z3iPaPTC3inf"
      },
      "source": [
        "# Obtain the most frequent value in the Outlet_Size column\n",
        "frequent_size = df_sales.Outlet_Size.mode()[0]"
      ],
      "execution_count": 107,
      "outputs": []
    },
    {
      "cell_type": "code",
      "metadata": {
        "id": "TtFlogM935qN"
      },
      "source": [
        "# Fill the missing values in the Outlet_Size using that most frequent value\n",
        "df_sales.Outlet_Size = df_sales.Outlet_Size.fillna(frequent_size)"
      ],
      "execution_count": 108,
      "outputs": []
    },
    {
      "cell_type": "code",
      "metadata": {
        "id": "qY870w6NWWhG"
      },
      "source": [
        "# Calculate the mean weight of the items\n",
        "mean_weight = df_sales['Item_Weight'].mean(skipna=True) # Ignores missing values\n",
        "\n",
        "# Fills missing values using the mean weight\n",
        "df_sales.Item_Weight = df_sales.Item_Weight.fillna(mean_weight)"
      ],
      "execution_count": 109,
      "outputs": []
    },
    {
      "cell_type": "code",
      "metadata": {
        "colab": {
          "base_uri": "https://localhost:8080/"
        },
        "id": "_pcM0KjgWno4",
        "outputId": "4961d0e8-194e-4d0e-e903-af71a32069ec"
      },
      "source": [
        "# Checks that there are no more missing values\n",
        "df_sales.isna().sum()"
      ],
      "execution_count": 110,
      "outputs": [
        {
          "output_type": "execute_result",
          "data": {
            "text/plain": [
              "Item_Identifier              0\n",
              "Item_Weight                  0\n",
              "Item_Fat_Content             0\n",
              "Item_Visibility              0\n",
              "Item_Type                    0\n",
              "Item_MRP                     0\n",
              "Outlet_Identifier            0\n",
              "Outlet_Establishment_Year    0\n",
              "Outlet_Size                  0\n",
              "Outlet_Location_Type         0\n",
              "Outlet_Type                  0\n",
              "Item_Outlet_Sales            0\n",
              "dtype: int64"
            ]
          },
          "metadata": {},
          "execution_count": 110
        }
      ]
    },
    {
      "cell_type": "markdown",
      "metadata": {
        "id": "0W0b7DtxWzmj"
      },
      "source": [
        "## Fixing inconsistent categories"
      ]
    },
    {
      "cell_type": "markdown",
      "metadata": {
        "id": "7xEjgLWKXCEb"
      },
      "source": [
        "By manual inspection, we can see that the columns that can possibly suffer from inconsistency are the categorical ones which are listed in the list below."
      ]
    },
    {
      "cell_type": "code",
      "metadata": {
        "id": "WN4ke46n5e6P"
      },
      "source": [
        "# Creates a list of the columns with possible inconsistency\n",
        "categorical = ['Item_Fat_Content', 'Item_Type', 'Outlet_Size', 'Outlet_Location_Type', 'Outlet_Type']"
      ],
      "execution_count": 111,
      "outputs": []
    },
    {
      "cell_type": "code",
      "metadata": {
        "colab": {
          "base_uri": "https://localhost:8080/"
        },
        "id": "XQ4M0sDr59LM",
        "outputId": "4c1bb557-64a9-4d2c-fb41-d22da2231829"
      },
      "source": [
        "# Shows the unique values in each column of interest\n",
        "for column in categorical:\n",
        "  print(df_sales[column].drop_duplicates())"
      ],
      "execution_count": 112,
      "outputs": [
        {
          "output_type": "stream",
          "name": "stdout",
          "text": [
            "0     Low Fat\n",
            "1     Regular\n",
            "27    low fat\n",
            "45         LF\n",
            "81        reg\n",
            "Name: Item_Fat_Content, dtype: object\n",
            "0                      Dairy\n",
            "1                Soft Drinks\n",
            "2                       Meat\n",
            "3      Fruits and Vegetables\n",
            "4                  Household\n",
            "5               Baking Goods\n",
            "6                Snack Foods\n",
            "8               Frozen Foods\n",
            "15                 Breakfast\n",
            "16        Health and Hygiene\n",
            "18               Hard Drinks\n",
            "29                    Canned\n",
            "33                    Breads\n",
            "72             Starchy Foods\n",
            "139                   Others\n",
            "231                  Seafood\n",
            "Name: Item_Type, dtype: object\n",
            "0     Medium\n",
            "4       High\n",
            "11     Small\n",
            "Name: Outlet_Size, dtype: object\n",
            "0    Tier 1\n",
            "1    Tier 3\n",
            "8    Tier 2\n",
            "Name: Outlet_Location_Type, dtype: object\n",
            "0    Supermarket Type1\n",
            "1    Supermarket Type2\n",
            "3        Grocery Store\n",
            "7    Supermarket Type3\n",
            "Name: Outlet_Type, dtype: object\n"
          ]
        }
      ]
    },
    {
      "cell_type": "markdown",
      "metadata": {
        "id": "k6Myc5W7XkLB"
      },
      "source": [
        "By manual inspection, we can see that only the column Item_Fat_Content has inconsistencies where some Low Fat values are keyed in as either LF or low fat and Regular as reg. "
      ]
    },
    {
      "cell_type": "code",
      "metadata": {
        "id": "EbhdUj-b600Y"
      },
      "source": [
        "# Replaces inconsistencies in Item_Fat_Content column with their proper value\n",
        "df_sales = df_sales.replace({'Item_Fat_Content': {'LF': 'Low Fat',\n",
        "                                         'low fat': 'Low Fat',\n",
        "                                         'reg': 'Regular'}})\n"
      ],
      "execution_count": 113,
      "outputs": []
    },
    {
      "cell_type": "code",
      "metadata": {
        "colab": {
          "base_uri": "https://localhost:8080/"
        },
        "id": "TSDiP-BY7meL",
        "outputId": "3f0ecb07-b43f-4937-92af-2d10f570f7a8"
      },
      "source": [
        "# Checks that there are no more inconsistencies\n",
        "for column in categorical:\n",
        "  print(df_sales[column].drop_duplicates())"
      ],
      "execution_count": 114,
      "outputs": [
        {
          "output_type": "stream",
          "name": "stdout",
          "text": [
            "0    Low Fat\n",
            "1    Regular\n",
            "Name: Item_Fat_Content, dtype: object\n",
            "0                      Dairy\n",
            "1                Soft Drinks\n",
            "2                       Meat\n",
            "3      Fruits and Vegetables\n",
            "4                  Household\n",
            "5               Baking Goods\n",
            "6                Snack Foods\n",
            "8               Frozen Foods\n",
            "15                 Breakfast\n",
            "16        Health and Hygiene\n",
            "18               Hard Drinks\n",
            "29                    Canned\n",
            "33                    Breads\n",
            "72             Starchy Foods\n",
            "139                   Others\n",
            "231                  Seafood\n",
            "Name: Item_Type, dtype: object\n",
            "0     Medium\n",
            "4       High\n",
            "11     Small\n",
            "Name: Outlet_Size, dtype: object\n",
            "0    Tier 1\n",
            "1    Tier 3\n",
            "8    Tier 2\n",
            "Name: Outlet_Location_Type, dtype: object\n",
            "0    Supermarket Type1\n",
            "1    Supermarket Type2\n",
            "3        Grocery Store\n",
            "7    Supermarket Type3\n",
            "Name: Outlet_Type, dtype: object\n"
          ]
        }
      ]
    },
    {
      "cell_type": "markdown",
      "metadata": {
        "id": "uQBbAycMYTCl"
      },
      "source": [
        "## Summarize numerical columns"
      ]
    },
    {
      "cell_type": "markdown",
      "metadata": {
        "id": "VX8_G6Z5Y6aC"
      },
      "source": [
        "We isolate the numerical columns by observing what each column means and the data type of each. Just because the data type is integer or float etc. does not necessarily mean that the column is numerical.(i.e. some product ID can be int but are still nominal variables)"
      ]
    },
    {
      "cell_type": "code",
      "metadata": {
        "colab": {
          "base_uri": "https://localhost:8080/",
          "height": 204
        },
        "id": "UthbYe4nCL0K",
        "outputId": "24751514-bfd5-4dc3-af56-2f964e87c199"
      },
      "source": [
        "# Isolate the numerical columns\n",
        "num_df = df_sales.select_dtypes(include=['float64', 'int64' ])\n",
        "\n",
        "# Display the head()\n",
        "num_df.head()"
      ],
      "execution_count": 116,
      "outputs": [
        {
          "output_type": "execute_result",
          "data": {
            "text/html": [
              "<div>\n",
              "<style scoped>\n",
              "    .dataframe tbody tr th:only-of-type {\n",
              "        vertical-align: middle;\n",
              "    }\n",
              "\n",
              "    .dataframe tbody tr th {\n",
              "        vertical-align: top;\n",
              "    }\n",
              "\n",
              "    .dataframe thead th {\n",
              "        text-align: right;\n",
              "    }\n",
              "</style>\n",
              "<table border=\"1\" class=\"dataframe\">\n",
              "  <thead>\n",
              "    <tr style=\"text-align: right;\">\n",
              "      <th></th>\n",
              "      <th>Item_Weight</th>\n",
              "      <th>Item_Visibility</th>\n",
              "      <th>Item_MRP</th>\n",
              "      <th>Outlet_Establishment_Year</th>\n",
              "      <th>Item_Outlet_Sales</th>\n",
              "    </tr>\n",
              "  </thead>\n",
              "  <tbody>\n",
              "    <tr>\n",
              "      <th>0</th>\n",
              "      <td>9.30</td>\n",
              "      <td>0.016047</td>\n",
              "      <td>249.8092</td>\n",
              "      <td>1999</td>\n",
              "      <td>3735.1380</td>\n",
              "    </tr>\n",
              "    <tr>\n",
              "      <th>1</th>\n",
              "      <td>5.92</td>\n",
              "      <td>0.019278</td>\n",
              "      <td>48.2692</td>\n",
              "      <td>2009</td>\n",
              "      <td>443.4228</td>\n",
              "    </tr>\n",
              "    <tr>\n",
              "      <th>2</th>\n",
              "      <td>17.50</td>\n",
              "      <td>0.016760</td>\n",
              "      <td>141.6180</td>\n",
              "      <td>1999</td>\n",
              "      <td>2097.2700</td>\n",
              "    </tr>\n",
              "    <tr>\n",
              "      <th>3</th>\n",
              "      <td>19.20</td>\n",
              "      <td>0.000000</td>\n",
              "      <td>182.0950</td>\n",
              "      <td>1998</td>\n",
              "      <td>732.3800</td>\n",
              "    </tr>\n",
              "    <tr>\n",
              "      <th>4</th>\n",
              "      <td>8.93</td>\n",
              "      <td>0.000000</td>\n",
              "      <td>53.8614</td>\n",
              "      <td>1987</td>\n",
              "      <td>994.7052</td>\n",
              "    </tr>\n",
              "  </tbody>\n",
              "</table>\n",
              "</div>"
            ],
            "text/plain": [
              "   Item_Weight  Item_Visibility  ...  Outlet_Establishment_Year  Item_Outlet_Sales\n",
              "0         9.30         0.016047  ...                       1999          3735.1380\n",
              "1         5.92         0.019278  ...                       2009           443.4228\n",
              "2        17.50         0.016760  ...                       1999          2097.2700\n",
              "3        19.20         0.000000  ...                       1998           732.3800\n",
              "4         8.93         0.000000  ...                       1987           994.7052\n",
              "\n",
              "[5 rows x 5 columns]"
            ]
          },
          "metadata": {},
          "execution_count": 116
        }
      ]
    },
    {
      "cell_type": "code",
      "metadata": {
        "colab": {
          "base_uri": "https://localhost:8080/"
        },
        "id": "3kuZUhHQCq4R",
        "outputId": "750b71dd-a129-465e-dad2-6e5bedec3f44"
      },
      "source": [
        "# Calculates the mean of each column\n",
        "newdf.mean()"
      ],
      "execution_count": 117,
      "outputs": [
        {
          "output_type": "execute_result",
          "data": {
            "text/plain": [
              "Item_Weight                    12.875420\n",
              "Item_Visibility                 0.066132\n",
              "Item_MRP                      140.992782\n",
              "Outlet_Establishment_Year    1997.831867\n",
              "Item_Outlet_Sales            2181.288914\n",
              "dtype: float64"
            ]
          },
          "metadata": {},
          "execution_count": 117
        }
      ]
    },
    {
      "cell_type": "code",
      "metadata": {
        "id": "aHAyKmK_CvFn",
        "colab": {
          "base_uri": "https://localhost:8080/"
        },
        "outputId": "dd9b3370-5d89-4d45-d212-4ed9540fceb6"
      },
      "source": [
        "# Find the minimum value for each column\n",
        "newdf.min()"
      ],
      "execution_count": 118,
      "outputs": [
        {
          "output_type": "execute_result",
          "data": {
            "text/plain": [
              "Item_Weight                     4.555\n",
              "Item_Visibility                 0.000\n",
              "Item_MRP                       31.290\n",
              "Outlet_Establishment_Year    1985.000\n",
              "Item_Outlet_Sales              33.290\n",
              "dtype: float64"
            ]
          },
          "metadata": {},
          "execution_count": 118
        }
      ]
    },
    {
      "cell_type": "code",
      "metadata": {
        "id": "WIiIHgqtCzzI",
        "colab": {
          "base_uri": "https://localhost:8080/"
        },
        "outputId": "49c8fc4f-a50d-4107-c80c-baef21783126"
      },
      "source": [
        "# Find the maximum value for each column\n",
        "newdf.max()"
      ],
      "execution_count": 119,
      "outputs": [
        {
          "output_type": "execute_result",
          "data": {
            "text/plain": [
              "Item_Weight                     21.350000\n",
              "Item_Visibility                  0.328391\n",
              "Item_MRP                       266.888400\n",
              "Outlet_Establishment_Year     2009.000000\n",
              "Item_Outlet_Sales            13086.964800\n",
              "dtype: float64"
            ]
          },
          "metadata": {},
          "execution_count": 119
        }
      ]
    }
  ]
}